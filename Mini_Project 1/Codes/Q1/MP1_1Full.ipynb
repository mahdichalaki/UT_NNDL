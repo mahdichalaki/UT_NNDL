{
  "nbformat": 4,
  "nbformat_minor": 0,
  "metadata": {
    "colab": {
      "name": "MP1_1Full.ipynb",
      "provenance": []
    },
    "kernelspec": {
      "name": "python3",
      "display_name": "Python 3"
    },
    "language_info": {
      "name": "python"
    },
    "accelerator": "GPU"
  },
  "cells": [
    {
      "cell_type": "code",
      "execution_count": null,
      "metadata": {
        "colab": {
          "base_uri": "https://localhost:8080/"
        },
        "id": "9cxLWj0YVaOD",
        "outputId": "7fd1caf7-396f-4519-cfe9-8f7b294f151b"
      },
      "outputs": [
        {
          "output_type": "stream",
          "name": "stdout",
          "text": [
            "Collecting scikeras[tensorflow]\n",
            "  Downloading scikeras-0.6.1-py3-none-any.whl (27 kB)\n",
            "Requirement already satisfied: packaging<22.0,>=0.21 in /usr/local/lib/python3.7/dist-packages (from scikeras[tensorflow]) (21.3)\n",
            "Collecting importlib-metadata<4,>=3\n",
            "  Downloading importlib_metadata-3.10.1-py3-none-any.whl (14 kB)\n",
            "Requirement already satisfied: scikit-learn>=1.0.0 in /usr/local/lib/python3.7/dist-packages (from scikeras[tensorflow]) (1.0.2)\n",
            "Requirement already satisfied: tensorflow>=2.7.0 in /usr/local/lib/python3.7/dist-packages (from scikeras[tensorflow]) (2.8.0)\n",
            "Requirement already satisfied: zipp>=0.5 in /usr/local/lib/python3.7/dist-packages (from importlib-metadata<4,>=3->scikeras[tensorflow]) (3.8.0)\n",
            "Requirement already satisfied: typing-extensions>=3.6.4 in /usr/local/lib/python3.7/dist-packages (from importlib-metadata<4,>=3->scikeras[tensorflow]) (4.1.1)\n",
            "Requirement already satisfied: pyparsing!=3.0.5,>=2.0.2 in /usr/local/lib/python3.7/dist-packages (from packaging<22.0,>=0.21->scikeras[tensorflow]) (3.0.8)\n",
            "Requirement already satisfied: threadpoolctl>=2.0.0 in /usr/local/lib/python3.7/dist-packages (from scikit-learn>=1.0.0->scikeras[tensorflow]) (3.1.0)\n",
            "Requirement already satisfied: numpy>=1.14.6 in /usr/local/lib/python3.7/dist-packages (from scikit-learn>=1.0.0->scikeras[tensorflow]) (1.21.5)\n",
            "Requirement already satisfied: joblib>=0.11 in /usr/local/lib/python3.7/dist-packages (from scikit-learn>=1.0.0->scikeras[tensorflow]) (1.1.0)\n",
            "Requirement already satisfied: scipy>=1.1.0 in /usr/local/lib/python3.7/dist-packages (from scikit-learn>=1.0.0->scikeras[tensorflow]) (1.4.1)\n",
            "Requirement already satisfied: astunparse>=1.6.0 in /usr/local/lib/python3.7/dist-packages (from tensorflow>=2.7.0->scikeras[tensorflow]) (1.6.3)\n",
            "Requirement already satisfied: google-pasta>=0.1.1 in /usr/local/lib/python3.7/dist-packages (from tensorflow>=2.7.0->scikeras[tensorflow]) (0.2.0)\n",
            "Requirement already satisfied: grpcio<2.0,>=1.24.3 in /usr/local/lib/python3.7/dist-packages (from tensorflow>=2.7.0->scikeras[tensorflow]) (1.44.0)\n",
            "Requirement already satisfied: termcolor>=1.1.0 in /usr/local/lib/python3.7/dist-packages (from tensorflow>=2.7.0->scikeras[tensorflow]) (1.1.0)\n",
            "Requirement already satisfied: protobuf>=3.9.2 in /usr/local/lib/python3.7/dist-packages (from tensorflow>=2.7.0->scikeras[tensorflow]) (3.17.3)\n",
            "Requirement already satisfied: h5py>=2.9.0 in /usr/local/lib/python3.7/dist-packages (from tensorflow>=2.7.0->scikeras[tensorflow]) (3.1.0)\n",
            "Requirement already satisfied: flatbuffers>=1.12 in /usr/local/lib/python3.7/dist-packages (from tensorflow>=2.7.0->scikeras[tensorflow]) (2.0)\n",
            "Requirement already satisfied: gast>=0.2.1 in /usr/local/lib/python3.7/dist-packages (from tensorflow>=2.7.0->scikeras[tensorflow]) (0.5.3)\n",
            "Requirement already satisfied: absl-py>=0.4.0 in /usr/local/lib/python3.7/dist-packages (from tensorflow>=2.7.0->scikeras[tensorflow]) (1.0.0)\n",
            "Collecting tf-estimator-nightly==2.8.0.dev2021122109\n",
            "  Downloading tf_estimator_nightly-2.8.0.dev2021122109-py2.py3-none-any.whl (462 kB)\n",
            "\u001b[K     |████████████████████████████████| 462 kB 7.3 MB/s \n",
            "\u001b[?25hRequirement already satisfied: six>=1.12.0 in /usr/local/lib/python3.7/dist-packages (from tensorflow>=2.7.0->scikeras[tensorflow]) (1.15.0)\n",
            "Requirement already satisfied: setuptools in /usr/local/lib/python3.7/dist-packages (from tensorflow>=2.7.0->scikeras[tensorflow]) (57.4.0)\n",
            "Requirement already satisfied: keras<2.9,>=2.8.0rc0 in /usr/local/lib/python3.7/dist-packages (from tensorflow>=2.7.0->scikeras[tensorflow]) (2.8.0)\n",
            "Requirement already satisfied: wrapt>=1.11.0 in /usr/local/lib/python3.7/dist-packages (from tensorflow>=2.7.0->scikeras[tensorflow]) (1.14.0)\n",
            "Requirement already satisfied: tensorflow-io-gcs-filesystem>=0.23.1 in /usr/local/lib/python3.7/dist-packages (from tensorflow>=2.7.0->scikeras[tensorflow]) (0.24.0)\n",
            "Requirement already satisfied: libclang>=9.0.1 in /usr/local/lib/python3.7/dist-packages (from tensorflow>=2.7.0->scikeras[tensorflow]) (13.0.0)\n",
            "Requirement already satisfied: keras-preprocessing>=1.1.1 in /usr/local/lib/python3.7/dist-packages (from tensorflow>=2.7.0->scikeras[tensorflow]) (1.1.2)\n",
            "Requirement already satisfied: opt-einsum>=2.3.2 in /usr/local/lib/python3.7/dist-packages (from tensorflow>=2.7.0->scikeras[tensorflow]) (3.3.0)\n",
            "Requirement already satisfied: tensorboard<2.9,>=2.8 in /usr/local/lib/python3.7/dist-packages (from tensorflow>=2.7.0->scikeras[tensorflow]) (2.8.0)\n",
            "Requirement already satisfied: wheel<1.0,>=0.23.0 in /usr/local/lib/python3.7/dist-packages (from astunparse>=1.6.0->tensorflow>=2.7.0->scikeras[tensorflow]) (0.37.1)\n",
            "Requirement already satisfied: cached-property in /usr/local/lib/python3.7/dist-packages (from h5py>=2.9.0->tensorflow>=2.7.0->scikeras[tensorflow]) (1.5.2)\n",
            "Requirement already satisfied: requests<3,>=2.21.0 in /usr/local/lib/python3.7/dist-packages (from tensorboard<2.9,>=2.8->tensorflow>=2.7.0->scikeras[tensorflow]) (2.23.0)\n",
            "Requirement already satisfied: markdown>=2.6.8 in /usr/local/lib/python3.7/dist-packages (from tensorboard<2.9,>=2.8->tensorflow>=2.7.0->scikeras[tensorflow]) (3.3.6)\n",
            "Requirement already satisfied: werkzeug>=0.11.15 in /usr/local/lib/python3.7/dist-packages (from tensorboard<2.9,>=2.8->tensorflow>=2.7.0->scikeras[tensorflow]) (1.0.1)\n",
            "Requirement already satisfied: tensorboard-plugin-wit>=1.6.0 in /usr/local/lib/python3.7/dist-packages (from tensorboard<2.9,>=2.8->tensorflow>=2.7.0->scikeras[tensorflow]) (1.8.1)\n",
            "Requirement already satisfied: google-auth-oauthlib<0.5,>=0.4.1 in /usr/local/lib/python3.7/dist-packages (from tensorboard<2.9,>=2.8->tensorflow>=2.7.0->scikeras[tensorflow]) (0.4.6)\n",
            "Requirement already satisfied: tensorboard-data-server<0.7.0,>=0.6.0 in /usr/local/lib/python3.7/dist-packages (from tensorboard<2.9,>=2.8->tensorflow>=2.7.0->scikeras[tensorflow]) (0.6.1)\n",
            "Requirement already satisfied: google-auth<3,>=1.6.3 in /usr/local/lib/python3.7/dist-packages (from tensorboard<2.9,>=2.8->tensorflow>=2.7.0->scikeras[tensorflow]) (1.35.0)\n",
            "Requirement already satisfied: pyasn1-modules>=0.2.1 in /usr/local/lib/python3.7/dist-packages (from google-auth<3,>=1.6.3->tensorboard<2.9,>=2.8->tensorflow>=2.7.0->scikeras[tensorflow]) (0.2.8)\n",
            "Requirement already satisfied: cachetools<5.0,>=2.0.0 in /usr/local/lib/python3.7/dist-packages (from google-auth<3,>=1.6.3->tensorboard<2.9,>=2.8->tensorflow>=2.7.0->scikeras[tensorflow]) (4.2.4)\n",
            "Requirement already satisfied: rsa<5,>=3.1.4 in /usr/local/lib/python3.7/dist-packages (from google-auth<3,>=1.6.3->tensorboard<2.9,>=2.8->tensorflow>=2.7.0->scikeras[tensorflow]) (4.8)\n",
            "Requirement already satisfied: requests-oauthlib>=0.7.0 in /usr/local/lib/python3.7/dist-packages (from google-auth-oauthlib<0.5,>=0.4.1->tensorboard<2.9,>=2.8->tensorflow>=2.7.0->scikeras[tensorflow]) (1.3.1)\n",
            "Collecting markdown>=2.6.8\n",
            "  Downloading Markdown-3.3.4-py3-none-any.whl (97 kB)\n",
            "\u001b[K     |████████████████████████████████| 97 kB 2.8 MB/s \n",
            "\u001b[?25hRequirement already satisfied: pyasn1<0.5.0,>=0.4.6 in /usr/local/lib/python3.7/dist-packages (from pyasn1-modules>=0.2.1->google-auth<3,>=1.6.3->tensorboard<2.9,>=2.8->tensorflow>=2.7.0->scikeras[tensorflow]) (0.4.8)\n",
            "Requirement already satisfied: urllib3!=1.25.0,!=1.25.1,<1.26,>=1.21.1 in /usr/local/lib/python3.7/dist-packages (from requests<3,>=2.21.0->tensorboard<2.9,>=2.8->tensorflow>=2.7.0->scikeras[tensorflow]) (1.24.3)\n",
            "Requirement already satisfied: idna<3,>=2.5 in /usr/local/lib/python3.7/dist-packages (from requests<3,>=2.21.0->tensorboard<2.9,>=2.8->tensorflow>=2.7.0->scikeras[tensorflow]) (2.10)\n",
            "Requirement already satisfied: chardet<4,>=3.0.2 in /usr/local/lib/python3.7/dist-packages (from requests<3,>=2.21.0->tensorboard<2.9,>=2.8->tensorflow>=2.7.0->scikeras[tensorflow]) (3.0.4)\n",
            "Requirement already satisfied: certifi>=2017.4.17 in /usr/local/lib/python3.7/dist-packages (from requests<3,>=2.21.0->tensorboard<2.9,>=2.8->tensorflow>=2.7.0->scikeras[tensorflow]) (2021.10.8)\n",
            "Requirement already satisfied: oauthlib>=3.0.0 in /usr/local/lib/python3.7/dist-packages (from requests-oauthlib>=0.7.0->google-auth-oauthlib<0.5,>=0.4.1->tensorboard<2.9,>=2.8->tensorflow>=2.7.0->scikeras[tensorflow]) (3.2.0)\n",
            "Installing collected packages: importlib-metadata, markdown, tf-estimator-nightly, scikeras\n",
            "  Attempting uninstall: importlib-metadata\n",
            "    Found existing installation: importlib-metadata 4.11.3\n",
            "    Uninstalling importlib-metadata-4.11.3:\n",
            "      Successfully uninstalled importlib-metadata-4.11.3\n",
            "  Attempting uninstall: markdown\n",
            "    Found existing installation: Markdown 3.3.6\n",
            "    Uninstalling Markdown-3.3.6:\n",
            "      Successfully uninstalled Markdown-3.3.6\n",
            "Successfully installed importlib-metadata-3.10.1 markdown-3.3.4 scikeras-0.6.1 tf-estimator-nightly-2.8.0.dev2021122109\n"
          ]
        }
      ],
      "source": [
        "pip install scikeras[tensorflow]"
      ]
    },
    {
      "cell_type": "code",
      "execution_count": null,
      "metadata": {
        "id": "YzVVsmilhYk5"
      },
      "outputs": [],
      "source": [
        "import numpy as np\n",
        "import tensorflow as tf\n",
        "import matplotlib.pyplot as plt\n",
        "import cv2\n",
        "from keras import Sequential\n",
        "from keras.layers import Dense, Dropout, Flatten, Conv2D, Flatten, MaxPooling2D, SpatialDropout2D, BatchNormalization\n",
        "from scikeras.wrappers import KerasClassifier\n",
        "\n",
        "from sklearn.metrics import f1_score\n",
        "from sklearn.metrics import precision_score\n",
        "from sklearn.metrics import recall_score"
      ]
    },
    {
      "cell_type": "code",
      "execution_count": null,
      "metadata": {
        "colab": {
          "base_uri": "https://localhost:8080/"
        },
        "id": "xbnK1141kojZ",
        "outputId": "e368121c-c897-4d02-b5bd-4884288d4cb1"
      },
      "outputs": [
        {
          "output_type": "stream",
          "name": "stdout",
          "text": [
            "Downloading data from https://www.cs.toronto.edu/~kriz/cifar-10-python.tar.gz\n",
            "170500096/170498071 [==============================] - 2s 0us/step\n",
            "170508288/170498071 [==============================] - 2s 0us/step\n"
          ]
        }
      ],
      "source": [
        "from keras.datasets import cifar10\n",
        "(x_train, y_train), (x_test, y_test) = cifar10.load_data()"
      ]
    },
    {
      "cell_type": "code",
      "execution_count": null,
      "metadata": {
        "colab": {
          "base_uri": "https://localhost:8080/"
        },
        "id": "M30NRQYIku43",
        "outputId": "77e23c84-b72c-4f31-e2a4-0b84bd225705"
      },
      "outputs": [
        {
          "output_type": "execute_result",
          "data": {
            "text/plain": [
              "(50000, 32, 32, 3)"
            ]
          },
          "metadata": {},
          "execution_count": 4
        }
      ],
      "source": [
        "x_train.shape"
      ]
    },
    {
      "cell_type": "code",
      "execution_count": null,
      "metadata": {
        "colab": {
          "base_uri": "https://localhost:8080/"
        },
        "id": "qS4mxQ68k0lz",
        "outputId": "96c9a853-90ef-45a8-b141-ac4e1e8430df"
      },
      "outputs": [
        {
          "output_type": "execute_result",
          "data": {
            "text/plain": [
              "(50000, 1)"
            ]
          },
          "metadata": {},
          "execution_count": 5
        }
      ],
      "source": [
        "y_train.shape"
      ]
    },
    {
      "cell_type": "code",
      "execution_count": null,
      "metadata": {
        "id": "mw4DfmKgk20t"
      },
      "outputs": [],
      "source": [
        "labels = ['airplane', 'automobile', 'bird', 'cat', 'deer', 'dog', 'frog', 'horse', 'ship', 'truck']"
      ]
    },
    {
      "cell_type": "code",
      "execution_count": null,
      "metadata": {
        "colab": {
          "base_uri": "https://localhost:8080/",
          "height": 317
        },
        "id": "amKtXt3-lF5w",
        "outputId": "b4eeea57-f2a0-461c-c6ed-bc8ac0238f8a"
      },
      "outputs": [
        {
          "output_type": "display_data",
          "data": {
            "text/plain": [
              "<Figure size 1152x576 with 10 Axes>"
            ],
            "image/png": "[encoded data removed]"
          },
          "metadata": {
            "needs_background": "light"
          }
        }
      ],
      "source": [
        "fig, axes = plt.subplots(ncols=5, nrows=2, figsize=(16, 8))\n",
        "image_index = 0\n",
        "for i in range(2):\n",
        "    for j in range(5):\n",
        "        axes[i,j].set_title(labels[y_train[image_index][0]])\n",
        "        axes[i,j].imshow(x_train[image_index])\n",
        "        axes[i,j].axis('off')\n",
        "        image_index += 1\n",
        "plt.show()"
      ]
    },
    {
      "cell_type": "code",
      "execution_count": null,
      "metadata": {
        "id": "g48PzyFXo-ie"
      },
      "outputs": [],
      "source": [
        "x_train=x_train.astype('float32')/255\n",
        "x_test=x_test.astype('float32')/255"
      ]
    },
    {
      "cell_type": "code",
      "execution_count": null,
      "metadata": {
        "id": "BfncBA3wpAlE"
      },
      "outputs": [],
      "source": [
        "(x_train, x_valid)=x_train[5000:], x_train[:5000]\n",
        "(y_train, y_valid)=y_train[5000:], y_train[:5000]"
      ]
    },
    {
      "cell_type": "code",
      "execution_count": null,
      "metadata": {
        "id": "big5igecpBMY"
      },
      "outputs": [],
      "source": [
        "y_train=tf.keras.utils.to_categorical(y_train,10)\n",
        "y_valid=tf.keras.utils.to_categorical(y_valid,10)\n",
        "y_test=tf.keras.utils.to_categorical(y_test,10)"
      ]
    },
    {
      "cell_type": "code",
      "execution_count": null,
      "metadata": {
        "id": "EsgvrVAdrcEM"
      },
      "outputs": [],
      "source": [
        "# x_train = np.array([cv2.cvtColor(image, cv2.COLOR_BGR2GRAY) for image in x_train])\n",
        "# x_valid = np.array([cv2.cvtColor(image, cv2.COLOR_BGR2GRAY) for image in x_valid])\n",
        "# x_test = np.array([cv2.cvtColor(image, cv2.COLOR_BGR2GRAY) for image in x_test])"
      ]
    },
    {
      "cell_type": "code",
      "execution_count": null,
      "metadata": {
        "id": "oYDFHrNmS8Iv"
      },
      "outputs": [],
      "source": [
        "shape = x_train.shape[1]"
      ]
    },
    {
      "cell_type": "code",
      "source": [
        "# x_train = x_train.reshape(x_train.shape[0],shape,shape,1)\n",
        "# x_valid = x_valid.reshape(x_valid.shape[0],shape,shape,1)\n",
        "# x_test = x_test.reshape(x_test.shape[0],shape,shape,1)"
      ],
      "metadata": {
        "id": "0wK3kQm8nhLP"
      },
      "execution_count": null,
      "outputs": []
    },
    {
      "cell_type": "code",
      "source": [
        "x_train = x_train.reshape(x_train.shape[0],shape,shape,3)\n",
        "x_valid = x_valid.reshape(x_valid.shape[0],shape,shape,3)\n",
        "x_test = x_test.reshape(x_test.shape[0],shape,shape,3)"
      ],
      "metadata": {
        "id": "vixsxlpEZ9pB"
      },
      "execution_count": null,
      "outputs": []
    },
    {
      "cell_type": "code",
      "execution_count": null,
      "metadata": {
        "id": "o8MikCD6orbn"
      },
      "outputs": [],
      "source": [
        "def create_model(alpha=0.0001, drop_out=0.2, activation='relu', loss=tf.keras.losses.CategoricalCrossentropy()):\n",
        "\n",
        "  model = Sequential()\n",
        "  # model.add(Flatten(input_shape = (image_size, image_size, 1), name='Input_layer'))\n",
        "  # model.add(Dense(hidden1, activation=activation, name='First_hidden_layer'))\n",
        "  # model.add(Dropout(drop_out, name='First_layer_Dropout'))\n",
        "  # model.add(Dense(hidden2, activation=activation, name='Second_hidden_layer'))  \n",
        "  # model.add(Dropout(drop_out, name='Second_layer_Dropout'))\n",
        "  # model.add(Dense(hidden3, activation=activation, name='Third_hidden_layer'))  \n",
        "  # model.add(Dropout(drop_out, name='Third_layer_Dropout'))\n",
        "  # model.add(Dense(10, activation='softmax', name='Output_layer'))\n",
        "\n",
        "  # model.add(Conv2D(filters=32, kernel_size=3, padding='same', activation='relu', input_shape=(32,32,3)))\n",
        "  # model.add(BatchNormalization())\n",
        "  # model.add(MaxPooling2D(pool_size=2))\n",
        "  # model.add(BatchNormalization())\n",
        "  # model.add(Dropout(0.25))\n",
        "\n",
        "  # model.add(Conv2D(filters=32, kernel_size=2, padding='same', activation='relu'))\n",
        "  # model.add(BatchNormalization())\n",
        "  # model.add(MaxPooling2D(pool_size=2))\n",
        "  # model.add(BatchNormalization())\n",
        "  # model.add(Dropout(0.25))\n",
        "\n",
        "  # model.add(Conv2D(filters=64, kernel_size=2, padding='same', activation='relu'))\n",
        "  # model.add(BatchNormalization())\n",
        "  # model.add(MaxPooling2D(pool_size=2))\n",
        "  # model.add(BatchNormalization())\n",
        "  # model.add(Dropout(0.25))\n",
        "  \n",
        "  # model.add(Conv2D(filters=64, kernel_size=2, padding='same', activation='relu'))\n",
        "  # model.add(BatchNormalization())\n",
        "  # model.add(MaxPooling2D(pool_size=2))\n",
        "  # model.add(BatchNormalization())\n",
        "  # model.add(Dropout(0.25))\n",
        "  # model.add(Flatten())\n",
        "  # model.add(Dense(512, activation='relu'))\n",
        "  # model.add(BatchNormalization())\n",
        "  # model.add(Dropout(0.4))\n",
        "  # model.add(Dense(10, activation='softmax', name='Output_layer'))\n",
        "\n",
        "  model.add(Conv2D(filters=32, kernel_size=3, padding='same', activation='relu', input_shape=(32,32,3)))\n",
        "  model.add(Conv2D(filters=32, kernel_size=3, activation='relu'))\n",
        "  model.add(BatchNormalization())\n",
        "  model.add(MaxPooling2D())\n",
        "  model.add(Dropout(0.25))\n",
        "\n",
        "  model.add(Conv2D(filters=64, kernel_size=3, padding='same', activation='relu'))\n",
        "  model.add(Conv2D(filters=64, kernel_size=3, activation='relu'))\n",
        "  model.add(BatchNormalization())\n",
        "  model.add(MaxPooling2D(pool_size=2))\n",
        "  model.add(Dropout(0.25))\n",
        "\n",
        "  model.add(Flatten())\n",
        "  model.add(Dense(512, activation='relu'))\n",
        "  model.add(BatchNormalization())\n",
        "  model.add(Dropout(0.4))\n",
        "  model.add(Dense(10, activation='softmax', name='Output_layer'))\n",
        "\n",
        "\n",
        "  model.compile(optimizer = tf.keras.optimizers.Adam(learning_rate=alpha), loss = loss, metrics=['accuracy', tf.keras.metrics.Precision(), tf.keras.metrics.Recall()])\n",
        "  # model.compile(optimizer = tf.keras.optimizers.Nadam(learning_rate=alpha), loss = loss, metrics=['accuracy', tf.keras.metrics.Precision(), tf.keras.metrics.Recall()])\n",
        "  # model.compile(optimizer=tf.keras.optimizers.SGD(learning_rate=alpha), loss=loss, metrics=['accuracy'])\n",
        "  # model.compile(optimizer='sgd', loss=loss, metrics=['accuracy'])\n",
        "  \n",
        "  model.summary()\n",
        "  return model"
      ]
    },
    {
      "cell_type": "code",
      "execution_count": null,
      "metadata": {
        "id": "jrKCalBlTZml"
      },
      "outputs": [],
      "source": [
        "model = KerasClassifier(build_fn=create_model, epochs=50, batch_size=64, verbose=1)"
      ]
    },
    {
      "cell_type": "code",
      "source": [
        "callback = tf.keras.callbacks.EarlyStopping(monitor='val_loss', patience=5, verbose=1, restore_best_weights=True, min_delta=0.03 )"
      ],
      "metadata": {
        "id": "leBg_ErWuMYp"
      },
      "execution_count": null,
      "outputs": []
    },
    {
      "cell_type": "code",
      "execution_count": null,
      "metadata": {
        "colab": {
          "base_uri": "https://localhost:8080/"
        },
        "id": "3aAor2V8UCtK",
        "outputId": "740534c3-75c8-4d7d-a5a4-6fa5429054bf"
      },
      "outputs": [
        {
          "output_type": "stream",
          "name": "stdout",
          "text": [
            "Model: \"sequential_1\"\n",
            "_________________________________________________________________\n",
            " Layer (type)                Output Shape              Param #   \n",
            "=================================================================\n",
            " conv2d_4 (Conv2D)           (None, 32, 32, 32)        896       \n",
            "                                                                 \n",
            " conv2d_5 (Conv2D)           (None, 30, 30, 32)        9248      \n",
            "                                                                 \n",
            " batch_normalization_3 (Batc  (None, 30, 30, 32)       128       \n",
            " hNormalization)                                                 \n",
            "                                                                 \n",
            " max_pooling2d_2 (MaxPooling  (None, 15, 15, 32)       0         \n",
            " 2D)                                                             \n",
            "                                                                 \n",
            " dropout_3 (Dropout)         (None, 15, 15, 32)        0         \n",
            "                                                                 \n",
            " conv2d_6 (Conv2D)           (None, 15, 15, 64)        18496     \n",
            "                                                                 \n",
            " conv2d_7 (Conv2D)           (None, 13, 13, 64)        36928     \n",
            "                                                                 \n",
            " batch_normalization_4 (Batc  (None, 13, 13, 64)       256       \n",
            " hNormalization)                                                 \n",
            "                                                                 \n",
            " max_pooling2d_3 (MaxPooling  (None, 6, 6, 64)         0         \n",
            " 2D)                                                             \n",
            "                                                                 \n",
            " dropout_4 (Dropout)         (None, 6, 6, 64)          0         \n",
            "                                                                 \n",
            " flatten_1 (Flatten)         (None, 2304)              0         \n",
            "                                                                 \n",
            " dense_1 (Dense)             (None, 512)               1180160   \n",
            "                                                                 \n",
            " batch_normalization_5 (Batc  (None, 512)              2048      \n",
            " hNormalization)                                                 \n",
            "                                                                 \n",
            " dropout_5 (Dropout)         (None, 512)               0         \n",
            "                                                                 \n",
            " Output_layer (Dense)        (None, 10)                5130      \n",
            "                                                                 \n",
            "=================================================================\n",
            "Total params: 1,253,290\n",
            "Trainable params: 1,252,074\n",
            "Non-trainable params: 1,216\n",
            "_________________________________________________________________\n"
          ]
        }
      ],
      "source": [
        "model = create_model(drop_out=0.5, activation='relu', loss=tf.keras.losses.CategoricalCrossentropy())"
      ]
    },
    {
      "cell_type": "code",
      "execution_count": null,
      "metadata": {
        "colab": {
          "base_uri": "https://localhost:8080/"
        },
        "id": "Sx1XqBfzV3zS",
        "outputId": "f1f5b0e0-e7a5-4446-d600-c14a0beb031e"
      },
      "outputs": [
        {
          "output_type": "stream",
          "name": "stdout",
          "text": [
            "Epoch 1/30\n",
            "1407/1407 [==============================] - 29s 20ms/step - loss: 2.0962 - accuracy: 0.3505 - precision_1: 0.4304 - recall_1: 0.2499 - val_loss: 1.4621 - val_accuracy: 0.4856 - val_precision_1: 0.6310 - val_recall_1: 0.3468\n",
            "Epoch 2/30\n",
            "1407/1407 [==============================] - 26s 19ms/step - loss: 1.5769 - accuracy: 0.4706 - precision_1: 0.5719 - recall_1: 0.3605 - val_loss: 1.2012 - val_accuracy: 0.5786 - val_precision_1: 0.7041 - val_recall_1: 0.4512\n",
            "Epoch 3/30\n",
            "1407/1407 [==============================] - 27s 19ms/step - loss: 1.3648 - accuracy: 0.5309 - precision_1: 0.6397 - recall_1: 0.4169 - val_loss: 1.1423 - val_accuracy: 0.5962 - val_precision_1: 0.7104 - val_recall_1: 0.4896\n",
            "Epoch 4/30\n",
            "1407/1407 [==============================] - 26s 19ms/step - loss: 1.2142 - accuracy: 0.5795 - precision_1: 0.6879 - recall_1: 0.4697 - val_loss: 1.1973 - val_accuracy: 0.5922 - val_precision_1: 0.7016 - val_recall_1: 0.5004\n",
            "Epoch 5/30\n",
            "1407/1407 [==============================] - 26s 19ms/step - loss: 1.0978 - accuracy: 0.6178 - precision_1: 0.7247 - recall_1: 0.5133 - val_loss: 0.9286 - val_accuracy: 0.6806 - val_precision_1: 0.7960 - val_recall_1: 0.5720\n",
            "Epoch 6/30\n",
            "1407/1407 [==============================] - 26s 19ms/step - loss: 1.0079 - accuracy: 0.6495 - precision_1: 0.7504 - recall_1: 0.5467 - val_loss: 0.9262 - val_accuracy: 0.6714 - val_precision_1: 0.7724 - val_recall_1: 0.5824\n",
            "Epoch 7/30\n",
            "1407/1407 [==============================] - 26s 19ms/step - loss: 0.9388 - accuracy: 0.6724 - precision_1: 0.7722 - recall_1: 0.5739 - val_loss: 1.0144 - val_accuracy: 0.6596 - val_precision_1: 0.7402 - val_recall_1: 0.5808\n",
            "Epoch 8/30\n",
            "1407/1407 [==============================] - 26s 19ms/step - loss: 0.8804 - accuracy: 0.6911 - precision_1: 0.7849 - recall_1: 0.5998 - val_loss: 0.7957 - val_accuracy: 0.7184 - val_precision_1: 0.8126 - val_recall_1: 0.6418\n",
            "Epoch 9/30\n",
            "1407/1407 [==============================] - 26s 19ms/step - loss: 0.8302 - accuracy: 0.7103 - precision_1: 0.8003 - recall_1: 0.6220 - val_loss: 0.7882 - val_accuracy: 0.7296 - val_precision_1: 0.8090 - val_recall_1: 0.6538\n",
            "Epoch 10/30\n",
            "1407/1407 [==============================] - 26s 18ms/step - loss: 0.7814 - accuracy: 0.7286 - precision_1: 0.8138 - recall_1: 0.6443 - val_loss: 0.7686 - val_accuracy: 0.7376 - val_precision_1: 0.8183 - val_recall_1: 0.6504\n",
            "Epoch 11/30\n",
            "1407/1407 [==============================] - 27s 19ms/step - loss: 0.7504 - accuracy: 0.7377 - precision_1: 0.8192 - recall_1: 0.6574 - val_loss: 0.7521 - val_accuracy: 0.7414 - val_precision_1: 0.8136 - val_recall_1: 0.6790\n",
            "Epoch 12/30\n",
            "1407/1407 [==============================] - 26s 19ms/step - loss: 0.7132 - accuracy: 0.7497 - precision_1: 0.8276 - recall_1: 0.6753 - val_loss: 0.7408 - val_accuracy: 0.7446 - val_precision_1: 0.8231 - val_recall_1: 0.6802\n",
            "Epoch 13/30\n",
            "1407/1407 [==============================] - 26s 19ms/step - loss: 0.6811 - accuracy: 0.7606 - precision_1: 0.8360 - recall_1: 0.6897 - val_loss: 0.6615 - val_accuracy: 0.7744 - val_precision_1: 0.8457 - val_recall_1: 0.7068\n",
            "Epoch 14/30\n",
            "1407/1407 [==============================] - 26s 18ms/step - loss: 0.6546 - accuracy: 0.7699 - precision_1: 0.8420 - recall_1: 0.7018 - val_loss: 0.6627 - val_accuracy: 0.7688 - val_precision_1: 0.8410 - val_recall_1: 0.7098\n",
            "Epoch 15/30\n",
            "1407/1407 [==============================] - 26s 19ms/step - loss: 0.6309 - accuracy: 0.7804 - precision_1: 0.8470 - recall_1: 0.7140 - val_loss: 0.6412 - val_accuracy: 0.7758 - val_precision_1: 0.8429 - val_recall_1: 0.7166\n",
            "Epoch 16/30\n",
            "1407/1407 [==============================] - 26s 19ms/step - loss: 0.6100 - accuracy: 0.7856 - precision_1: 0.8494 - recall_1: 0.7249 - val_loss: 0.6557 - val_accuracy: 0.7758 - val_precision_1: 0.8315 - val_recall_1: 0.7222\n",
            "Epoch 17/30\n",
            "1407/1407 [==============================] - 26s 19ms/step - loss: 0.5807 - accuracy: 0.7960 - precision_1: 0.8561 - recall_1: 0.7382 - val_loss: 0.6286 - val_accuracy: 0.7784 - val_precision_1: 0.8431 - val_recall_1: 0.7296\n",
            "Epoch 18/30\n",
            "1407/1407 [==============================] - 26s 19ms/step - loss: 0.5604 - accuracy: 0.8032 - precision_1: 0.8603 - recall_1: 0.7486 - val_loss: 0.6430 - val_accuracy: 0.7810 - val_precision_1: 0.8448 - val_recall_1: 0.7282\n",
            "Epoch 19/30\n",
            "1407/1407 [==============================] - 26s 18ms/step - loss: 0.5380 - accuracy: 0.8136 - precision_1: 0.8666 - recall_1: 0.7598 - val_loss: 0.6088 - val_accuracy: 0.7952 - val_precision_1: 0.8522 - val_recall_1: 0.7460\n",
            "Epoch 20/30\n",
            "1407/1407 [==============================] - 26s 18ms/step - loss: 0.5179 - accuracy: 0.8180 - precision_1: 0.8683 - recall_1: 0.7682 - val_loss: 0.6018 - val_accuracy: 0.7996 - val_precision_1: 0.8486 - val_recall_1: 0.7546\n",
            "Epoch 21/30\n",
            "1407/1407 [==============================] - 26s 18ms/step - loss: 0.4990 - accuracy: 0.8229 - precision_1: 0.8720 - recall_1: 0.7751 - val_loss: 0.6294 - val_accuracy: 0.7846 - val_precision_1: 0.8387 - val_recall_1: 0.7466\n",
            "Epoch 22/30\n",
            "1405/1407 [============================>.] - ETA: 0s - loss: 0.4844 - accuracy: 0.8297 - precision_1: 0.8762 - recall_1: 0.7854Restoring model weights from the end of the best epoch: 17.\n",
            "1407/1407 [==============================] - 26s 18ms/step - loss: 0.4845 - accuracy: 0.8297 - precision_1: 0.8761 - recall_1: 0.7854 - val_loss: 0.6013 - val_accuracy: 0.7884 - val_precision_1: 0.8435 - val_recall_1: 0.7470\n",
            "Epoch 22: early stopping\n"
          ]
        }
      ],
      "source": [
        "import time\n",
        "epochs = 30\n",
        "start = time.time()\n",
        "train = model.fit(x_train, y_train, epochs=epochs, batch_size=32, validation_data=(x_valid, y_valid), shuffle=True, callbacks=[callback])\n",
        "end = time.time()"
      ]
    },
    {
      "cell_type": "code",
      "execution_count": null,
      "metadata": {
        "colab": {
          "base_uri": "https://localhost:8080/"
        },
        "id": "qtG1D3OnV-qZ",
        "outputId": "4c509672-efbd-4b68-bb8a-8732cdc46387"
      },
      "outputs": [
        {
          "output_type": "execute_result",
          "data": {
            "text/plain": [
              "580.7065768241882"
            ]
          },
          "metadata": {},
          "execution_count": 23
        }
      ],
      "source": [
        "run_time = end - start\n",
        "run_time"
      ]
    },
    {
      "cell_type": "code",
      "execution_count": null,
      "metadata": {
        "colab": {
          "base_uri": "https://localhost:8080/"
        },
        "id": "CRgywVN_XBow",
        "outputId": "78c410ae-8f7e-4dd0-885b-6a47a5a31add"
      },
      "outputs": [
        {
          "output_type": "stream",
          "name": "stdout",
          "text": [
            "313/313 [==============================] - 3s 9ms/step - loss: 0.6593 - accuracy: 0.7735 - precision_1: 0.8295 - recall_1: 0.7210\n"
          ]
        }
      ],
      "source": [
        "score = model.evaluate(x_test, y_test)"
      ]
    },
    {
      "cell_type": "code",
      "execution_count": null,
      "metadata": {
        "id": "QMiJsTY2XHwZ"
      },
      "outputs": [],
      "source": [
        "predicted_classes = np.argmax(model.predict(x_test), axis=-1)"
      ]
    },
    {
      "cell_type": "code",
      "execution_count": null,
      "metadata": {
        "id": "JQUX373HXZ7F"
      },
      "outputs": [],
      "source": [
        "y_test_rev_labels = y_test.argmax(1)"
      ]
    },
    {
      "cell_type": "code",
      "execution_count": null,
      "metadata": {
        "id": "2r2HpV_2TXBb"
      },
      "outputs": [],
      "source": [
        "precision = precision_score(y_test_rev_labels, predicted_classes, average='macro')\n",
        "recall = recall_score(y_test_rev_labels, predicted_classes, average='macro')\n",
        "f1 = f1_score(y_test_rev_labels, predicted_classes, average='macro')"
      ]
    },
    {
      "cell_type": "code",
      "execution_count": null,
      "metadata": {
        "colab": {
          "base_uri": "https://localhost:8080/",
          "height": 647
        },
        "id": "lgKGoGxaXl2y",
        "outputId": "b3698090-70f9-45d0-8392-9682d56d7c00"
      },
      "outputs": [
        {
          "output_type": "display_data",
          "data": {
            "text/plain": [
              "<Figure size 864x864 with 1 Axes>"
            ],
            "image/png": "[encoded data removed]"
          },
          "metadata": {
            "needs_background": "light"
          }
        }
      ],
      "source": [
        "from sklearn.metrics import confusion_matrix\n",
        "import seaborn as sns\n",
        "\n",
        "cm = confusion_matrix(y_test_rev_labels, predicted_classes)\n",
        "plt.figure(figsize=(12,12))\n",
        "sns.heatmap(cm, cbar=False, xticklabels=labels, yticklabels=labels, fmt='d', annot=True, cmap=plt.cm.Blues)\n",
        "plt.xlabel('Predicted')\n",
        "plt.ylabel('Actual')\n",
        "plt.show()"
      ]
    },
    {
      "cell_type": "code",
      "source": [
        "history.history['callback']"
      ],
      "metadata": {
        "id": "kYWaNUWpVjPD",
        "colab": {
          "base_uri": "https://localhost:8080/",
          "height": 165
        },
        "outputId": "389722f6-8f22-48e3-89f0-d64bd1519a4a"
      },
      "execution_count": null,
      "outputs": [
        {
          "output_type": "error",
          "ename": "NameError",
          "evalue": "ignored",
          "traceback": [
            "\u001b[0;31m---------------------------------------------------------------------------\u001b[0m",
            "\u001b[0;31mNameError\u001b[0m                                 Traceback (most recent call last)",
            "\u001b[0;32m<ipython-input-34-a95f094e54af>\u001b[0m in \u001b[0;36m<module>\u001b[0;34m()\u001b[0m\n\u001b[0;32m----> 1\u001b[0;31m \u001b[0mhistory\u001b[0m\u001b[0;34m.\u001b[0m\u001b[0mhistory\u001b[0m\u001b[0;34m[\u001b[0m\u001b[0;34m'callback'\u001b[0m\u001b[0;34m]\u001b[0m\u001b[0;34m\u001b[0m\u001b[0;34m\u001b[0m\u001b[0m\n\u001b[0m",
            "\u001b[0;31mNameError\u001b[0m: name 'history' is not defined"
          ]
        }
      ]
    },
    {
      "cell_type": "code",
      "execution_count": null,
      "metadata": {
        "colab": {
          "base_uri": "https://localhost:8080/"
        },
        "id": "XgHlTtZgd_Pz",
        "outputId": "0d69fb06-a192-4ac9-ec98-16c6e21a2f3f"
      },
      "outputs": [
        {
          "output_type": "execute_result",
          "data": {
            "text/plain": [
              "0.484510213136673"
            ]
          },
          "metadata": {},
          "execution_count": 29
        }
      ],
      "source": [
        "train.history['loss'][-1]"
      ]
    },
    {
      "cell_type": "code",
      "source": [
        "epochs = 22"
      ],
      "metadata": {
        "id": "73eP7Z4hyn_a"
      },
      "execution_count": null,
      "outputs": []
    },
    {
      "cell_type": "code",
      "execution_count": null,
      "metadata": {
        "colab": {
          "base_uri": "https://localhost:8080/",
          "height": 295
        },
        "id": "_gKExZKWXzX5",
        "outputId": "350dd52d-b969-4739-bb44-44fd9916d8ee"
      },
      "outputs": [
        {
          "output_type": "display_data",
          "data": {
            "text/plain": [
              "<Figure size 432x288 with 1 Axes>"
            ],
            "image/png": "[encoded data removed]"
          },
          "metadata": {
            "needs_background": "light"
          }
        }
      ],
      "source": [
        "epochs_range = range(0,epochs)\n",
        "plt.plot(epochs_range, train.history['accuracy'][:epochs], 'r', label='Training accuracy')\n",
        "plt.plot(epochs_range, train.history['val_accuracy'][:epochs], 'b', label='validation accuracy')\n",
        "plt.title('Training and Validation Accuracy')\n",
        "plt.xlabel('Epochs')\n",
        "plt.ylabel('Accuracy')\n",
        "plt.legend()\n",
        "plt.show()"
      ]
    },
    {
      "cell_type": "code",
      "execution_count": null,
      "metadata": {
        "colab": {
          "base_uri": "https://localhost:8080/",
          "height": 295
        },
        "id": "vm53BQ_gX2WP",
        "outputId": "9fc9cb6b-45cd-4633-e9cc-366f84245fdd"
      },
      "outputs": [
        {
          "output_type": "display_data",
          "data": {
            "text/plain": [
              "<Figure size 432x288 with 1 Axes>"
            ],
            "image/png": "[encoded data removed]"
          },
          "metadata": {
            "needs_background": "light"
          }
        }
      ],
      "source": [
        "epochs_range = range(0,epochs)\n",
        "plt.plot(epochs_range, train.history['loss'][:epochs], 'r', label='Training loss')\n",
        "plt.plot(epochs_range, train.history['val_loss'][:epochs], 'b', label='validation loss')\n",
        "plt.title('Training and Validation loss')\n",
        "plt.xlabel('Epochs')\n",
        "plt.ylabel('loss')\n",
        "plt.legend()\n",
        "plt.show()"
      ]
    },
    {
      "cell_type": "code",
      "execution_count": null,
      "metadata": {
        "id": "nb2jH0gYX4ql"
      },
      "outputs": [],
      "source": [
        "import pandas as pd\n",
        "df = {'Label': labels,\n",
        "        'Precision':precision_score(y_test_rev_labels, predicted_classes, average=None),\n",
        "        'Recall':recall_score(y_test_rev_labels, predicted_classes, average=None),\n",
        "        'F1-Score':f1_score(y_test_rev_labels, predicted_classes, average=None),\n",
        "        }\n",
        "\n",
        "data = pd.DataFrame(df)\n",
        "# data.index = labels"
      ]
    },
    {
      "cell_type": "code",
      "execution_count": null,
      "metadata": {
        "colab": {
          "base_uri": "https://localhost:8080/",
          "height": 363
        },
        "id": "hHPQcKC5ap1Z",
        "outputId": "50a15347-2786-4bab-9410-4812fb745717"
      },
      "outputs": [
        {
          "output_type": "execute_result",
          "data": {
            "text/plain": [
              "        Label  Precision  Recall  F1-Score\n",
              "0    airplane   0.814433   0.790  0.802030\n",
              "1  automobile   0.918455   0.856  0.886128\n",
              "2        bird   0.663897   0.719  0.690350\n",
              "3         cat   0.599206   0.604  0.601594\n",
              "4        deer   0.694200   0.790  0.739008\n",
              "5         dog   0.798551   0.551  0.652071\n",
              "6        frog   0.793607   0.869  0.829594\n",
              "7       horse   0.854995   0.796  0.824443\n",
              "8        ship   0.783390   0.915  0.844096\n",
              "9       truck   0.857868   0.845  0.851385"
            ],
            "text/html": [
              "\n",
              "  <div id=\"df-40c88922-7edc-4529-bad2-b94b3b4433c3\">\n",
              "    <div class=\"colab-df-container\">\n",
              "      <div>\n",
              "<style scoped>\n",
              "    .dataframe tbody tr th:only-of-type {\n",
              "        vertical-align: middle;\n",
              "    }\n",
              "\n",
              "    .dataframe tbody tr th {\n",
              "        vertical-align: top;\n",
              "    }\n",
              "\n",
              "    .dataframe thead th {\n",
              "        text-align: right;\n",
              "    }\n",
              "</style>\n",
              "<table border=\"1\" class=\"dataframe\">\n",
              "  <thead>\n",
              "    <tr style=\"text-align: right;\">\n",
              "      <th></th>\n",
              "      <th>Label</th>\n",
              "      <th>Precision</th>\n",
              "      <th>Recall</th>\n",
              "      <th>F1-Score</th>\n",
              "    </tr>\n",
              "  </thead>\n",
              "  <tbody>\n",
              "    <tr>\n",
              "      <th>0</th>\n",
              "      <td>airplane</td>\n",
              "      <td>0.814433</td>\n",
              "      <td>0.790</td>\n",
              "      <td>0.802030</td>\n",
              "    </tr>\n",
              "    <tr>\n",
              "      <th>1</th>\n",
              "      <td>automobile</td>\n",
              "      <td>0.918455</td>\n",
              "      <td>0.856</td>\n",
              "      <td>0.886128</td>\n",
              "    </tr>\n",
              "    <tr>\n",
              "      <th>2</th>\n",
              "      <td>bird</td>\n",
              "      <td>0.663897</td>\n",
              "      <td>0.719</td>\n",
              "      <td>0.690350</td>\n",
              "    </tr>\n",
              "    <tr>\n",
              "      <th>3</th>\n",
              "      <td>cat</td>\n",
              "      <td>0.599206</td>\n",
              "      <td>0.604</td>\n",
              "      <td>0.601594</td>\n",
              "    </tr>\n",
              "    <tr>\n",
              "      <th>4</th>\n",
              "      <td>deer</td>\n",
              "      <td>0.694200</td>\n",
              "      <td>0.790</td>\n",
              "      <td>0.739008</td>\n",
              "    </tr>\n",
              "    <tr>\n",
              "      <th>5</th>\n",
              "      <td>dog</td>\n",
              "      <td>0.798551</td>\n",
              "      <td>0.551</td>\n",
              "      <td>0.652071</td>\n",
              "    </tr>\n",
              "    <tr>\n",
              "      <th>6</th>\n",
              "      <td>frog</td>\n",
              "      <td>0.793607</td>\n",
              "      <td>0.869</td>\n",
              "      <td>0.829594</td>\n",
              "    </tr>\n",
              "    <tr>\n",
              "      <th>7</th>\n",
              "      <td>horse</td>\n",
              "      <td>0.854995</td>\n",
              "      <td>0.796</td>\n",
              "      <td>0.824443</td>\n",
              "    </tr>\n",
              "    <tr>\n",
              "      <th>8</th>\n",
              "      <td>ship</td>\n",
              "      <td>0.783390</td>\n",
              "      <td>0.915</td>\n",
              "      <td>0.844096</td>\n",
              "    </tr>\n",
              "    <tr>\n",
              "      <th>9</th>\n",
              "      <td>truck</td>\n",
              "      <td>0.857868</td>\n",
              "      <td>0.845</td>\n",
              "      <td>0.851385</td>\n",
              "    </tr>\n",
              "  </tbody>\n",
              "</table>\n",
              "</div>\n",
              "      <button class=\"colab-df-convert\" onclick=\"convertToInteractive('df-40c88922-7edc-4529-bad2-b94b3b4433c3')\"\n",
              "              title=\"Convert this dataframe to an interactive table.\"\n",
              "              style=\"display:none;\">\n",
              "        \n",
              "  <svg xmlns=\"http://www.w3.org/2000/svg\" height=\"24px\"viewBox=\"0 0 24 24\"\n",
              "       width=\"24px\">\n",
              "    <path d=\"M0 0h24v24H0V0z\" fill=\"none\"/>\n",
              "    <path d=\"M18.56 5.44l.94 2.06.94-2.06 2.06-.94-2.06-.94-.94-2.06-.94 2.06-2.06.94zm-11 1L8.5 8.5l.94-2.06 2.06-.94-2.06-.94L8.5 2.5l-.94 2.06-2.06.94zm10 10l.94 2.06.94-2.06 2.06-.94-2.06-.94-.94-2.06-.94 2.06-2.06.94z\"/><path d=\"M17.41 7.96l-1.37-1.37c-.4-.4-.92-.59-1.43-.59-.52 0-1.04.2-1.43.59L10.3 9.45l-7.72 7.72c-.78.78-.78 2.05 0 2.83L4 21.41c.39.39.9.59 1.41.59.51 0 1.02-.2 1.41-.59l7.78-7.78 2.81-2.81c.8-.78.8-2.07 0-2.86zM5.41 20L4 18.59l7.72-7.72 1.47 1.35L5.41 20z\"/>\n",
              "  </svg>\n",
              "      </button>\n",
              "      \n",
              "  <style>\n",
              "    .colab-df-container {\n",
              "      display:flex;\n",
              "      flex-wrap:wrap;\n",
              "      gap: 12px;\n",
              "    }\n",
              "\n",
              "    .colab-df-convert {\n",
              "      background-color: #E8F0FE;\n",
              "      border: none;\n",
              "      border-radius: 50%;\n",
              "      cursor: pointer;\n",
              "      display: none;\n",
              "      fill: #1967D2;\n",
              "      height: 32px;\n",
              "      padding: 0 0 0 0;\n",
              "      width: 32px;\n",
              "    }\n",
              "\n",
              "    .colab-df-convert:hover {\n",
              "      background-color: #E2EBFA;\n",
              "      box-shadow: 0px 1px 2px rgba(60, 64, 67, 0.3), 0px 1px 3px 1px rgba(60, 64, 67, 0.15);\n",
              "      fill: #174EA6;\n",
              "    }\n",
              "\n",
              "    [theme=dark] .colab-df-convert {\n",
              "      background-color: #3B4455;\n",
              "      fill: #D2E3FC;\n",
              "    }\n",
              "\n",
              "    [theme=dark] .colab-df-convert:hover {\n",
              "      background-color: #434B5C;\n",
              "      box-shadow: 0px 1px 3px 1px rgba(0, 0, 0, 0.15);\n",
              "      filter: drop-shadow(0px 1px 2px rgba(0, 0, 0, 0.3));\n",
              "      fill: #FFFFFF;\n",
              "    }\n",
              "  </style>\n",
              "\n",
              "      <script>\n",
              "        const buttonEl =\n",
              "          document.querySelector('#df-40c88922-7edc-4529-bad2-b94b3b4433c3 button.colab-df-convert');\n",
              "        buttonEl.style.display =\n",
              "          google.colab.kernel.accessAllowed ? 'block' : 'none';\n",
              "\n",
              "        async function convertToInteractive(key) {\n",
              "          const element = document.querySelector('#df-40c88922-7edc-4529-bad2-b94b3b4433c3');\n",
              "          const dataTable =\n",
              "            await google.colab.kernel.invokeFunction('convertToInteractive',\n",
              "                                                     [key], {});\n",
              "          if (!dataTable) return;\n",
              "\n",
              "          const docLinkHtml = 'Like what you see? Visit the ' +\n",
              "            '<a target=\"_blank\" href=https://colab.research.google.com/notebooks/data_table.ipynb>data table notebook</a>'\n",
              "            + ' to learn more about interactive tables.';\n",
              "          element.innerHTML = '';\n",
              "          dataTable['output_type'] = 'display_data';\n",
              "          await google.colab.output.renderOutput(dataTable, element);\n",
              "          const docLink = document.createElement('div');\n",
              "          docLink.innerHTML = docLinkHtml;\n",
              "          element.appendChild(docLink);\n",
              "        }\n",
              "      </script>\n",
              "    </div>\n",
              "  </div>\n",
              "  "
            ]
          },
          "metadata": {},
          "execution_count": 38
        }
      ],
      "source": [
        "data"
      ]
    },
    {
      "cell_type": "code",
      "execution_count": null,
      "metadata": {
        "id": "YFDwRCTaaq21"
      },
      "outputs": [],
      "source": [
        "df2 = {'Training Accuracy': train.history['accuracy'][-1],\n",
        "        'Training Loss':train.history['loss'][-1],\n",
        "        'Validation Accuracy':train.history['val_accuracy'][-1],\n",
        "        'Validation Loss':train.history['val_loss'][-1],\n",
        "        }\n",
        "data2 = pd.DataFrame(df2, index=[0])"
      ]
    },
    {
      "cell_type": "code",
      "execution_count": null,
      "metadata": {
        "colab": {
          "base_uri": "https://localhost:8080/",
          "height": 81
        },
        "id": "wW3ua8ZifhmU",
        "outputId": "81496808-12e7-4a48-b148-2e2e49886a79"
      },
      "outputs": [
        {
          "output_type": "execute_result",
          "data": {
            "text/plain": [
              "   Training Accuracy  Training Loss  Validation Accuracy  Validation Loss\n",
              "0           0.829667        0.48451               0.7884         0.601324"
            ],
            "text/html": [
              "\n",
              "  <div id=\"df-dd618365-a5ba-4ac0-9784-7e143892175f\">\n",
              "    <div class=\"colab-df-container\">\n",
              "      <div>\n",
              "<style scoped>\n",
              "    .dataframe tbody tr th:only-of-type {\n",
              "        vertical-align: middle;\n",
              "    }\n",
              "\n",
              "    .dataframe tbody tr th {\n",
              "        vertical-align: top;\n",
              "    }\n",
              "\n",
              "    .dataframe thead th {\n",
              "        text-align: right;\n",
              "    }\n",
              "</style>\n",
              "<table border=\"1\" class=\"dataframe\">\n",
              "  <thead>\n",
              "    <tr style=\"text-align: right;\">\n",
              "      <th></th>\n",
              "      <th>Training Accuracy</th>\n",
              "      <th>Training Loss</th>\n",
              "      <th>Validation Accuracy</th>\n",
              "      <th>Validation Loss</th>\n",
              "    </tr>\n",
              "  </thead>\n",
              "  <tbody>\n",
              "    <tr>\n",
              "      <th>0</th>\n",
              "      <td>0.829667</td>\n",
              "      <td>0.48451</td>\n",
              "      <td>0.7884</td>\n",
              "      <td>0.601324</td>\n",
              "    </tr>\n",
              "  </tbody>\n",
              "</table>\n",
              "</div>\n",
              "      <button class=\"colab-df-convert\" onclick=\"convertToInteractive('df-dd618365-a5ba-4ac0-9784-7e143892175f')\"\n",
              "              title=\"Convert this dataframe to an interactive table.\"\n",
              "              style=\"display:none;\">\n",
              "        \n",
              "  <svg xmlns=\"http://www.w3.org/2000/svg\" height=\"24px\"viewBox=\"0 0 24 24\"\n",
              "       width=\"24px\">\n",
              "    <path d=\"M0 0h24v24H0V0z\" fill=\"none\"/>\n",
              "    <path d=\"M18.56 5.44l.94 2.06.94-2.06 2.06-.94-2.06-.94-.94-2.06-.94 2.06-2.06.94zm-11 1L8.5 8.5l.94-2.06 2.06-.94-2.06-.94L8.5 2.5l-.94 2.06-2.06.94zm10 10l.94 2.06.94-2.06 2.06-.94-2.06-.94-.94-2.06-.94 2.06-2.06.94z\"/><path d=\"M17.41 7.96l-1.37-1.37c-.4-.4-.92-.59-1.43-.59-.52 0-1.04.2-1.43.59L10.3 9.45l-7.72 7.72c-.78.78-.78 2.05 0 2.83L4 21.41c.39.39.9.59 1.41.59.51 0 1.02-.2 1.41-.59l7.78-7.78 2.81-2.81c.8-.78.8-2.07 0-2.86zM5.41 20L4 18.59l7.72-7.72 1.47 1.35L5.41 20z\"/>\n",
              "  </svg>\n",
              "      </button>\n",
              "      \n",
              "  <style>\n",
              "    .colab-df-container {\n",
              "      display:flex;\n",
              "      flex-wrap:wrap;\n",
              "      gap: 12px;\n",
              "    }\n",
              "\n",
              "    .colab-df-convert {\n",
              "      background-color: #E8F0FE;\n",
              "      border: none;\n",
              "      border-radius: 50%;\n",
              "      cursor: pointer;\n",
              "      display: none;\n",
              "      fill: #1967D2;\n",
              "      height: 32px;\n",
              "      padding: 0 0 0 0;\n",
              "      width: 32px;\n",
              "    }\n",
              "\n",
              "    .colab-df-convert:hover {\n",
              "      background-color: #E2EBFA;\n",
              "      box-shadow: 0px 1px 2px rgba(60, 64, 67, 0.3), 0px 1px 3px 1px rgba(60, 64, 67, 0.15);\n",
              "      fill: #174EA6;\n",
              "    }\n",
              "\n",
              "    [theme=dark] .colab-df-convert {\n",
              "      background-color: #3B4455;\n",
              "      fill: #D2E3FC;\n",
              "    }\n",
              "\n",
              "    [theme=dark] .colab-df-convert:hover {\n",
              "      background-color: #434B5C;\n",
              "      box-shadow: 0px 1px 3px 1px rgba(0, 0, 0, 0.15);\n",
              "      filter: drop-shadow(0px 1px 2px rgba(0, 0, 0, 0.3));\n",
              "      fill: #FFFFFF;\n",
              "    }\n",
              "  </style>\n",
              "\n",
              "      <script>\n",
              "        const buttonEl =\n",
              "          document.querySelector('#df-dd618365-a5ba-4ac0-9784-7e143892175f button.colab-df-convert');\n",
              "        buttonEl.style.display =\n",
              "          google.colab.kernel.accessAllowed ? 'block' : 'none';\n",
              "\n",
              "        async function convertToInteractive(key) {\n",
              "          const element = document.querySelector('#df-dd618365-a5ba-4ac0-9784-7e143892175f');\n",
              "          const dataTable =\n",
              "            await google.colab.kernel.invokeFunction('convertToInteractive',\n",
              "                                                     [key], {});\n",
              "          if (!dataTable) return;\n",
              "\n",
              "          const docLinkHtml = 'Like what you see? Visit the ' +\n",
              "            '<a target=\"_blank\" href=https://colab.research.google.com/notebooks/data_table.ipynb>data table notebook</a>'\n",
              "            + ' to learn more about interactive tables.';\n",
              "          element.innerHTML = '';\n",
              "          dataTable['output_type'] = 'display_data';\n",
              "          await google.colab.output.renderOutput(dataTable, element);\n",
              "          const docLink = document.createElement('div');\n",
              "          docLink.innerHTML = docLinkHtml;\n",
              "          element.appendChild(docLink);\n",
              "        }\n",
              "      </script>\n",
              "    </div>\n",
              "  </div>\n",
              "  "
            ]
          },
          "metadata": {},
          "execution_count": 40
        }
      ],
      "source": [
        "data2"
      ]
    },
    {
      "cell_type": "code",
      "execution_count": null,
      "metadata": {
        "id": "QrvN6aqJfyyr"
      },
      "outputs": [],
      "source": [
        "df3 = {'Test  Accuracy': score[1],\n",
        "        'Test  Loss':score[0],\n",
        "        'Test Precision':precision,\n",
        "        'Test Recall':recall,\n",
        "        'Test F1-Score':f1,\n",
        "        }\n",
        "data3 = pd.DataFrame(df3, index=[0])"
      ]
    },
    {
      "cell_type": "code",
      "execution_count": null,
      "metadata": {
        "colab": {
          "base_uri": "https://localhost:8080/",
          "height": 81
        },
        "id": "fb9H54-Fg0Ov",
        "outputId": "84b0111e-8179-496c-8930-b74d0a6bc200"
      },
      "outputs": [
        {
          "output_type": "execute_result",
          "data": {
            "text/plain": [
              "   Test  Accuracy  Test  Loss  Test Precision  Test Recall  Test F1-Score\n",
              "0          0.7735    0.659284         0.77786       0.7735        0.77207"
            ],
            "text/html": [
              "\n",
              "  <div id=\"df-3f8149ff-e70a-4667-8daf-ff83099a70e2\">\n",
              "    <div class=\"colab-df-container\">\n",
              "      <div>\n",
              "<style scoped>\n",
              "    .dataframe tbody tr th:only-of-type {\n",
              "        vertical-align: middle;\n",
              "    }\n",
              "\n",
              "    .dataframe tbody tr th {\n",
              "        vertical-align: top;\n",
              "    }\n",
              "\n",
              "    .dataframe thead th {\n",
              "        text-align: right;\n",
              "    }\n",
              "</style>\n",
              "<table border=\"1\" class=\"dataframe\">\n",
              "  <thead>\n",
              "    <tr style=\"text-align: right;\">\n",
              "      <th></th>\n",
              "      <th>Test  Accuracy</th>\n",
              "      <th>Test  Loss</th>\n",
              "      <th>Test Precision</th>\n",
              "      <th>Test Recall</th>\n",
              "      <th>Test F1-Score</th>\n",
              "    </tr>\n",
              "  </thead>\n",
              "  <tbody>\n",
              "    <tr>\n",
              "      <th>0</th>\n",
              "      <td>0.7735</td>\n",
              "      <td>0.659284</td>\n",
              "      <td>0.77786</td>\n",
              "      <td>0.7735</td>\n",
              "      <td>0.77207</td>\n",
              "    </tr>\n",
              "  </tbody>\n",
              "</table>\n",
              "</div>\n",
              "      <button class=\"colab-df-convert\" onclick=\"convertToInteractive('df-3f8149ff-e70a-4667-8daf-ff83099a70e2')\"\n",
              "              title=\"Convert this dataframe to an interactive table.\"\n",
              "              style=\"display:none;\">\n",
              "        \n",
              "  <svg xmlns=\"http://www.w3.org/2000/svg\" height=\"24px\"viewBox=\"0 0 24 24\"\n",
              "       width=\"24px\">\n",
              "    <path d=\"M0 0h24v24H0V0z\" fill=\"none\"/>\n",
              "    <path d=\"M18.56 5.44l.94 2.06.94-2.06 2.06-.94-2.06-.94-.94-2.06-.94 2.06-2.06.94zm-11 1L8.5 8.5l.94-2.06 2.06-.94-2.06-.94L8.5 2.5l-.94 2.06-2.06.94zm10 10l.94 2.06.94-2.06 2.06-.94-2.06-.94-.94-2.06-.94 2.06-2.06.94z\"/><path d=\"M17.41 7.96l-1.37-1.37c-.4-.4-.92-.59-1.43-.59-.52 0-1.04.2-1.43.59L10.3 9.45l-7.72 7.72c-.78.78-.78 2.05 0 2.83L4 21.41c.39.39.9.59 1.41.59.51 0 1.02-.2 1.41-.59l7.78-7.78 2.81-2.81c.8-.78.8-2.07 0-2.86zM5.41 20L4 18.59l7.72-7.72 1.47 1.35L5.41 20z\"/>\n",
              "  </svg>\n",
              "      </button>\n",
              "      \n",
              "  <style>\n",
              "    .colab-df-container {\n",
              "      display:flex;\n",
              "      flex-wrap:wrap;\n",
              "      gap: 12px;\n",
              "    }\n",
              "\n",
              "    .colab-df-convert {\n",
              "      background-color: #E8F0FE;\n",
              "      border: none;\n",
              "      border-radius: 50%;\n",
              "      cursor: pointer;\n",
              "      display: none;\n",
              "      fill: #1967D2;\n",
              "      height: 32px;\n",
              "      padding: 0 0 0 0;\n",
              "      width: 32px;\n",
              "    }\n",
              "\n",
              "    .colab-df-convert:hover {\n",
              "      background-color: #E2EBFA;\n",
              "      box-shadow: 0px 1px 2px rgba(60, 64, 67, 0.3), 0px 1px 3px 1px rgba(60, 64, 67, 0.15);\n",
              "      fill: #174EA6;\n",
              "    }\n",
              "\n",
              "    [theme=dark] .colab-df-convert {\n",
              "      background-color: #3B4455;\n",
              "      fill: #D2E3FC;\n",
              "    }\n",
              "\n",
              "    [theme=dark] .colab-df-convert:hover {\n",
              "      background-color: #434B5C;\n",
              "      box-shadow: 0px 1px 3px 1px rgba(0, 0, 0, 0.15);\n",
              "      filter: drop-shadow(0px 1px 2px rgba(0, 0, 0, 0.3));\n",
              "      fill: #FFFFFF;\n",
              "    }\n",
              "  </style>\n",
              "\n",
              "      <script>\n",
              "        const buttonEl =\n",
              "          document.querySelector('#df-3f8149ff-e70a-4667-8daf-ff83099a70e2 button.colab-df-convert');\n",
              "        buttonEl.style.display =\n",
              "          google.colab.kernel.accessAllowed ? 'block' : 'none';\n",
              "\n",
              "        async function convertToInteractive(key) {\n",
              "          const element = document.querySelector('#df-3f8149ff-e70a-4667-8daf-ff83099a70e2');\n",
              "          const dataTable =\n",
              "            await google.colab.kernel.invokeFunction('convertToInteractive',\n",
              "                                                     [key], {});\n",
              "          if (!dataTable) return;\n",
              "\n",
              "          const docLinkHtml = 'Like what you see? Visit the ' +\n",
              "            '<a target=\"_blank\" href=https://colab.research.google.com/notebooks/data_table.ipynb>data table notebook</a>'\n",
              "            + ' to learn more about interactive tables.';\n",
              "          element.innerHTML = '';\n",
              "          dataTable['output_type'] = 'display_data';\n",
              "          await google.colab.output.renderOutput(dataTable, element);\n",
              "          const docLink = document.createElement('div');\n",
              "          docLink.innerHTML = docLinkHtml;\n",
              "          element.appendChild(docLink);\n",
              "        }\n",
              "      </script>\n",
              "    </div>\n",
              "  </div>\n",
              "  "
            ]
          },
          "metadata": {},
          "execution_count": 42
        }
      ],
      "source": [
        "data3"
      ]
    },
    {
      "cell_type": "code",
      "source": [
        ""
      ],
      "metadata": {
        "id": "0HdbKFqBe-pj"
      },
      "execution_count": null,
      "outputs": []
    }
  ]
}